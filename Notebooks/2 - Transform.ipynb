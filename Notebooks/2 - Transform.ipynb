{
 "cells": [
  {
   "cell_type": "markdown",
   "metadata": {},
   "source": [
    "# Transform layer\n",
    "Now that we have our data, let's begin the second step: transform the collected information into a _dimension_ model, so we can use it to visualize, analyze or even make predictions in different aspects."
   ]
  },
  {
   "cell_type": "markdown",
   "metadata": {},
   "source": [
    "## Imports\n",
    "For this step, we'll need the `csv` and `json` python modules."
   ]
  },
  {
   "cell_type": "code",
   "execution_count": 1,
   "metadata": {},
   "outputs": [],
   "source": [
    "import csv\n",
    "import json"
   ]
  },
  {
   "cell_type": "markdown",
   "metadata": {},
   "source": [
    "## The _time_ dimension\n",
    "TO-DO: _a brief description of this section_"
   ]
  },
  {
   "cell_type": "code",
   "execution_count": 2,
   "metadata": {},
   "outputs": [],
   "source": [
    "def build_time_dimension(year_range: tuple, month_range: tuple, save_path: str) -> None:\n",
    "    '''\n",
    "    Writes a .csv file containing the data about time dimension,\n",
    "    based on the year and month range defined,\n",
    "    and saves it in the specified path.\n",
    "    '''\n",
    "\n",
    "    with open(save_path, 'w+', newline='') as csvfile:\n",
    "        spamwriter = csv.writer(csvfile, delimiter=',',\n",
    "                                quotechar='|', quoting=csv.QUOTE_MINIMAL)\n",
    "\n",
    "        spamwriter.writerow(\n",
    "            ['id', 'year', 'month_number', 'bimonth_number', 'quarter_number', 'half_year_number'])\n",
    "\n",
    "        for year in range(year_range[0], year_range[1] + 1):\n",
    "            for month in range(month_range[0], month_range[1] + 1):\n",
    "                id = '{}0{}'.format(\n",
    "                    year, month) if month <= 9 else '{}{}'.format(year, month)\n",
    "                bimonth = month // 2 if month % 2 == 0 else (month // 2) + 1\n",
    "                quarter = month // 3 if month % 3 == 0 else (month // 3) + 1\n",
    "                half_year = month // 6 if month % 6 == 0 else (month // 6) + 1\n",
    "\n",
    "                spamwriter.writerow(\n",
    "                    [id, year, month, bimonth, quarter, half_year])"
   ]
  },
  {
   "cell_type": "markdown",
   "metadata": {},
   "source": [
    "## State regions*\n",
    "As we will convert our current data into a new model, one of them will be the _spatial dimension_ and, as the data of our cities have no region name, it will be our task to abstract these names to create our model as accurate as possible. Thus, in this way, we will be able to manipulate our spatial dimension as a whole.\n",
    "\n",
    "To do so, a dictionary, with all state initials as keys and region names as values, was instantiated:\n",
    "```python\n",
    "state_regions = {\n",
    "    'AC': 'Norte',\n",
    "    'AL': 'Nordeste',\n",
    "    'AP': 'Norte',\n",
    "    'AM': 'Norte',\n",
    "    'BA': 'Nordeste',\n",
    "    'CE': 'Nordeste',\n",
    "    'DF': 'Centro-Oeste',\n",
    "    'ES': 'Sudeste',\n",
    "    'GO': 'Centro-Oeste',\n",
    "    'MA': 'Nordeste',\n",
    "    'MT': 'Centro-Oeste',\n",
    "    'MS': 'Centro-Oeste',\n",
    "    'MG': 'Sudeste',\n",
    "    'PA': 'Norte',\n",
    "    'PB': 'Nordeste',\n",
    "    'PR': 'Sul',\n",
    "    'PE': 'Nordeste',\n",
    "    'PI': 'Nordeste',\n",
    "    'RJ': 'Sudeste',\n",
    "    'RN': 'Nordeste',\n",
    "    'RS': 'Sul',\n",
    "    'RO': 'Norte',\n",
    "    'RR': 'Norte',\n",
    "    'SC': 'Sul',\n",
    "    'SP': 'Sudeste',\n",
    "    'SE': 'Nordeste',\n",
    "    'TO': 'Norte'\n",
    "}\n",
    "```"
   ]
  }
 ],
 "metadata": {
  "kernelspec": {
   "display_name": "Python 3",
   "language": "python",
   "name": "python3"
  },
  "language_info": {
   "codemirror_mode": {
    "name": "ipython",
    "version": 3
   },
   "file_extension": ".py",
   "mimetype": "text/x-python",
   "name": "python",
   "nbconvert_exporter": "python",
   "pygments_lexer": "ipython3",
   "version": "3.7.6"
  }
 },
 "nbformat": 4,
 "nbformat_minor": 4
}
