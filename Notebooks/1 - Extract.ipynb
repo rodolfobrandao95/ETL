{
 "cells": [
  {
   "cell_type": "markdown",
   "metadata": {},
   "source": [
    "# Extract layer\n",
    "\n",
    "At this point, there are three functions, two of which are to configure the information we need to send to the API and the last one to actually collect the data."
   ]
  },
  {
   "cell_type": "markdown",
   "metadata": {},
   "source": [
    "## The API's endpoint\n",
    "The [REST API](http://www.transparencia.gov.br/swagger-ui.html) endpoint that will be used, allows requests by passing two parameters, as the following example:\n",
    "```\n",
    "http://www.transparencia.gov.br/api-de-dados/bolsa-familia-por-municipio/?mesAno={yyyymm}&codigoIbge={xxxxyy}pagina=1\n",
    "```\n",
    "Where:\n",
    "+ `mesAno` indicates the date, in the _YYYYMM_ format, when the Bolsa Famílias' benefit was provided by the government;\n",
    "+ `codigoIbge` is the information composed by the [IBGE](https://www.ibge.gov.br/)'s _state_code_ (the first 4 digits) and _city_code_ (the last 2 digits), which is used to represent the benefied region.\n",
    "---\n",
    "For example, if we make a request with the parameters `201901` and `5300108`, we get the following response:\n",
    "```json\n",
    "[\n",
    "    {\n",
    "        \"id\": 78300058,\n",
    "        \"dataReferencia\": \"01/01/2019\",\n",
    "        \"municipio\": {\n",
    "            \"codigoIBGE\": \"5300108\",\n",
    "            \"nomeIBGE\": \"BRASÍLIA\",\n",
    "            \"nomeIBGEsemAcento\": \"BRASILIA\",\n",
    "            \"pais\": \"BRASIL\",\n",
    "            \"uf\": {\n",
    "                \"sigla\": \"DF\",\n",
    "                \"nome\": \"DISTRITO FEDERAL\"\n",
    "            }\n",
    "        },\n",
    "        \"tipo\": {\n",
    "            \"id\": 1,\n",
    "            \"descricao\": \"Bolsa Família\",\n",
    "            \"descricaoDetalhada\": \"Bolsa Família\"\n",
    "        },\n",
    "        \"valor\": 12013474.00,\n",
    "        \"quantidadeBeneficiados\": 66650\n",
    "    }\n",
    "]\n",
    "```\n",
    "> _The displayed information is about the city of Brasília, federal district of Brazil, from 01/01/2019._"
   ]
  },
  {
   "cell_type": "markdown",
   "metadata": {},
   "source": [
    "## Imports\n",
    "First of all, let's define our _imports_. For this layer, we'll need the `csv`, `json` and `requests` python modules.\n",
    "\n",
    "You may need to download the _requests_ module if it's missing. So, download it using the `pip` package installer by running the following command:\n",
    "```\n",
    "$ pip install requests\n",
    "```\n",
    "\n",
    "Or by any other ways you prefer."
   ]
  },
  {
   "cell_type": "code",
   "execution_count": 1,
   "metadata": {},
   "outputs": [],
   "source": [
    "import csv\n",
    "import json\n",
    "import requests as r"
   ]
  },
  {
   "cell_type": "markdown",
   "metadata": {},
   "source": [
    "## The _mesAno_ parameter\n",
    "In order the arrange the date interval which the program's benefit was provided, the following function was implemented. It requires 2 arguments:\n",
    "+ `year_range`: a tuple with the first and last occurrence of _years_.\n",
    "+ `month_range`: a tuple with the first and last occurrence of _months_.\n",
    "\n",
    "And it returns a `list` containing a year and month set in `YYYYMM` format."
   ]
  },
  {
   "cell_type": "code",
   "execution_count": 2,
   "metadata": {},
   "outputs": [],
   "source": [
    "def set_date_range(year_range: tuple, month_range: tuple) -> list:\n",
    "    '''\n",
    "    Returns a list containing a year and month set in YYYYMM format.\n",
    "    '''\n",
    "\n",
    "    dates = []\n",
    "    for year in range(year_range[0], year_range[1] + 1):\n",
    "        for month in range(month_range[0], month_range[1] + 1):\n",
    "            dates.append(\n",
    "                '{}0{}'.format(year, month) if month <= 9 else '{}{}'.format(year, month))\n",
    "\n",
    "    return dates"
   ]
  },
  {
   "cell_type": "markdown",
   "metadata": {},
   "source": [
    "## The _codigoIbge_ parameter\n",
    "As cited before, the second parameter required in the API's endpoint is the concatenation of _state_code_ with the _city_code_. There's a .csv file in the project root which provides such information, it can be found in _CSV/municipios_IBGE.csv_ path. We'll use this file to arrange the `codigoIbge` parameter set.\n",
    "\n",
    "To do so, the bellow function was implemented. It accepts 1 argument:\n",
    "+ `reading_file`: the .csv file path that will be read.\n",
    "\n",
    "And as an optional argument, it accepts:\n",
    "+ `column_value`: represents the value of the column that will be filtered.\n",
    "\n",
    "Finally, it returns a `list` with the formatted IBGE codes as `XXXXYY`.\n",
    "> _X = state_code digits;\\\n",
    "Y = city_code digits._"
   ]
  },
  {
   "cell_type": "code",
   "execution_count": 4,
   "metadata": {},
   "outputs": [],
   "source": [
    "def set_ibge_codes(reading_file: str, column_value='') -> list:\n",
    "    '''\n",
    "    Reads a .csv file, and filters by column value, and returns\n",
    "    a list with the IBGE codes in the API's endpoint format.\n",
    "    Optional keywords arguments: column_value: value of the column to be filtered.\n",
    "    '''\n",
    "\n",
    "    ibge_codes = []\n",
    "    with open(reading_file, newline='', encoding='utf-8') as csvfile:\n",
    "        spamreader = csv.reader(csvfile, delimiter=',')\n",
    "        filtered = list(filter(lambda x: column_value in x, spamreader)\n",
    "                        ) if column_value != '' else list(spamreader)\n",
    "\n",
    "        for arr in filtered:\n",
    "            ibge_codes.append('{}{}'.format(arr[1], arr[2]))\n",
    "\n",
    "    return ibge_codes"
   ]
  },
  {
   "cell_type": "markdown",
   "metadata": {},
   "source": [
    "## Data gathering\n",
    "After we set the date interval and where the benefit was provided, we can finally collect the data by calling the API endpoint. \n",
    "\n",
    "The following function is responsible to do this work. It requires 3 arguments:\n",
    "+ `dates`: a list containing the date interval;\n",
    "+ `ibge_codes`: a list containing the IBGE codes, as decribed before;\n",
    "+ `save_path`: the directory path which a _.json_ file, containing the collected program data, will be written and saved."
   ]
  },
  {
   "cell_type": "code",
   "execution_count": 6,
   "metadata": {},
   "outputs": [],
   "source": [
    "def gather_data(dates: list, ibge_codes: list, save_path: str) -> None:\n",
    "    '''\n",
    "    Collects data from the API, by passing the dates and IBGE codes\n",
    "    formatted, and saves a JSON file in the specified path.\n",
    "    '''\n",
    "\n",
    "    uris = []\n",
    "    returned_json = []\n",
    "\n",
    "    for code in ibge_codes:\n",
    "        for date in dates:\n",
    "            uris.append(\n",
    "                'http://www.transparencia.gov.br/api-de-dados/bolsa-familia-por-municipio/?mesAno={}&codigoIbge={}&pagina=1'.format(\n",
    "                    date, code\n",
    "                ))\n",
    "\n",
    "    for uri in uris:\n",
    "        try:\n",
    "            response = r.get(uri)\n",
    "            if response.status_code == 200 and response.json():\n",
    "                returned_json.append(response.json()[0])\n",
    "        except ValueError:\n",
    "            print('ValueError exception for: {}'.format(uri))\n",
    "        except Exception as e:\n",
    "            blocked = True\n",
    "            while blocked:\n",
    "                response = r.get(uri)\n",
    "                blocked = False\n",
    "\n",
    "            print(repr(e))\n",
    "\n",
    "    with open(save_path, 'w+', encoding='utf-8') as jsonfile:\n",
    "        all_json = json.dumps(returned_json, indent=4, ensure_ascii=False)\n",
    "        jsonfile.write(all_json)"
   ]
  }
 ],
 "metadata": {
  "kernelspec": {
   "display_name": "Python 3",
   "language": "python",
   "name": "python3"
  },
  "language_info": {
   "codemirror_mode": {
    "name": "ipython",
    "version": 3
   },
   "file_extension": ".py",
   "mimetype": "text/x-python",
   "name": "python",
   "nbconvert_exporter": "python",
   "pygments_lexer": "ipython3",
   "version": "3.7.6"
  }
 },
 "nbformat": 4,
 "nbformat_minor": 4
}
